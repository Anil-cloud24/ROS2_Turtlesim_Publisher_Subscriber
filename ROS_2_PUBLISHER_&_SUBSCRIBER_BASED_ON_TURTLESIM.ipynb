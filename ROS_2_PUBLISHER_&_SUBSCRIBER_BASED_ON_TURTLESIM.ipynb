{
  "nbformat": 4,
  "nbformat_minor": 0,
  "metadata": {
    "colab": {
      "provenance": [],
      "toc_visible": true
    },
    "kernelspec": {
      "name": "python3",
      "display_name": "Python 3"
    },
    "language_info": {
      "name": "python"
    }
  },
  "cells": [
    {
      "cell_type": "markdown",
      "source": [
        "# **ROS 2: PUBLISHER & SUBSCRIBER BASED ON TURTLESIM**\n",
        "\n"
      ],
      "metadata": {
        "id": "2SKYs-cKyMAM"
      }
    },
    {
      "cell_type": "markdown",
      "source": [
        "# Creating a publisher for turtlesim movements"
      ],
      "metadata": {
        "id": "o2Ivh2lZ15E8"
      }
    },
    {
      "cell_type": "markdown",
      "source": [
        "## Opening the turtlesim"
      ],
      "metadata": {
        "id": "3Sv_NyJY8TBM"
      }
    },
    {
      "cell_type": "code",
      "source": [
        "# Shell 1\n",
        "ros2 pkg executables turtlesim\n",
        "\n",
        "# Shell 2\n",
        "ros2 run turtlesim turtlesim_node\n",
        "\n",
        "# Shell 3\n",
        "ros2 run turtlesim turtle_teleop_key"
      ],
      "metadata": {
        "id": "AeSRKJkq2c-v"
      },
      "execution_count": null,
      "outputs": []
    },
    {
      "cell_type": "markdown",
      "source": [
        "## Workspace and package creation"
      ],
      "metadata": {
        "id": "jXJOWSsKziD_"
      }
    },
    {
      "cell_type": "code",
      "source": [
        "#Shell 4\n",
        "\n",
        "mkdir -p ~/ros2_ws/src\n",
        "cd ~/ros2_ws/src\n",
        "ros2 pkg create --build-type ament_python publisher_pkg --dependencies rclpy"
      ],
      "metadata": {
        "id": "mQfV7e2a6TFv"
      },
      "execution_count": null,
      "outputs": []
    },
    {
      "cell_type": "markdown",
      "source": [
        "## Created a .py file inside the inner most publisher package folder named as 'simple_publisher.py'"
      ],
      "metadata": {
        "id": "TFtml9ET6euY"
      }
    },
    {
      "cell_type": "code",
      "source": [
        "# Code\n",
        "\n",
        "import rclpy\n",
        "from rclpy.node import Node\n",
        "from geometry_msgs.msg import Twist\n",
        "\n",
        "class SimplePublisher(Node):\n",
        "    def __init__(self):\n",
        "        super().__init__('simple_publisher')\n",
        "        self.publisher = self.create_publisher(Twist, '/turtle1/cmd_vel', 10)\n",
        "        time_period = 0.5\n",
        "        self.timer = self.create_timer(time_period, self.timer_callback)\n",
        "\n",
        "    def timer_callback(self):\n",
        "        msg = Twist()\n",
        "        msg.linear.x = 0.9       #giving these values made the turtle go in circles\n",
        "        msg.angular.z = 0.9      #giving these values made the turtle go in circles\n",
        "        self.publisher.publish(msg)\n",
        "        self.get_logger().info(f'Publishing: {msg}')\n",
        "\n",
        "def main(args = None):\n",
        "    rclpy.init(args = args)\n",
        "    publish = SimplePublisher()\n",
        "    rclpy.spin(publish)\n",
        "    simple_publisher.destroy_node()\n",
        "    rclpy.shutdown()\n",
        "\n",
        "if __name__ == '__main__':\n",
        "    main()"
      ],
      "metadata": {
        "id": "78qKfbYs61yZ"
      },
      "execution_count": null,
      "outputs": []
    },
    {
      "cell_type": "markdown",
      "source": [
        "## Launch file creation"
      ],
      "metadata": {
        "id": "DGCHJFUI67gZ"
      }
    },
    {
      "cell_type": "code",
      "source": [
        "# Shell 4\n",
        "\n",
        "cd ~/ros2_ws/src/publisher_pkg\n",
        "mkdir launch\n",
        "cd ~/ros2_ws/src/publisher_pkg/launch\n",
        "touch publisher_pkg_launch_file.launch.py\n",
        "chmod +x publisher_pkg_launch_file.launch.py"
      ],
      "metadata": {
        "id": "XMPnwm9j7A7I"
      },
      "execution_count": null,
      "outputs": []
    },
    {
      "cell_type": "markdown",
      "source": [
        "## Launch file code"
      ],
      "metadata": {
        "id": "sUNvB7Um7YGK"
      }
    },
    {
      "cell_type": "code",
      "source": [
        "# Code\n",
        "\n",
        "from launch import LaunchDescription\n",
        "from launch_ros.actions import Node\n",
        "\n",
        "def generate_launch_description():\n",
        "    return LaunchDescription([\n",
        "    Node(\n",
        "    package = 'publisher_pkg',\n",
        "    executable = 'publishing',\n",
        "    output = 'screen'\n",
        "    )\n",
        "    ])"
      ],
      "metadata": {
        "id": "DZ37vRdW7U8q"
      },
      "execution_count": null,
      "outputs": []
    },
    {
      "cell_type": "markdown",
      "source": [
        "## Modify the setup.py"
      ],
      "metadata": {
        "id": "VMQUn4Bm7cN8"
      }
    },
    {
      "cell_type": "code",
      "source": [
        "# Code\n",
        "\n",
        "from setuptools import find_packages, setup\n",
        "import os\n",
        "from glob import glob\n",
        "\n",
        "package_name = 'publisher_pkg'\n",
        "\n",
        "setup(\n",
        "    name=package_name,\n",
        "    version='0.0.0',\n",
        "    packages=find_packages(exclude=['test']),\n",
        "    data_files=[\n",
        "        ('share/ament_index/resource_index/packages',\n",
        "            ['resource/' + package_name]),\n",
        "        ('share/' + package_name, ['package.xml']),\n",
        "        (os.path.join('share', package_name), glob('launch/*launch.py'))\n",
        "    ],\n",
        "    install_requires=['setuptools'],\n",
        "    zip_safe=True,\n",
        "    maintainer='user',\n",
        "    maintainer_email='user@todo.todo',\n",
        "    description='TODO: Package description',\n",
        "    license='TODO: License declaration',\n",
        "    tests_require=['pytest'],\n",
        "    entry_points={\n",
        "        'console_scripts': [\n",
        "        'publishing = publisher_pkg.simple_publisher:main'\n",
        "        ],\n",
        "    },\n",
        ")\n"
      ],
      "metadata": {
        "id": "1IEDHquayvF1"
      },
      "execution_count": null,
      "outputs": []
    },
    {
      "cell_type": "markdown",
      "source": [
        "## Package Compiling"
      ],
      "metadata": {
        "id": "3dAvJlHd08I3"
      }
    },
    {
      "cell_type": "code",
      "source": [
        "# Shell 4\n",
        "\n",
        "cd ~/ros2_ws\n",
        "colcon build\n",
        "source install/setup.bash"
      ],
      "metadata": {
        "id": "UXlpsmx31AJc"
      },
      "execution_count": null,
      "outputs": []
    },
    {
      "cell_type": "markdown",
      "source": [
        "## Launch File"
      ],
      "metadata": {
        "id": "WAdg4G6d1JRl"
      }
    },
    {
      "cell_type": "code",
      "source": [
        "# Shell 5\n",
        "\n",
        "ros2 launch publisher_pkg publisher_pkg_launch_file.launch.py"
      ],
      "metadata": {
        "id": "Bfn_oPCq1OGq"
      },
      "execution_count": null,
      "outputs": []
    },
    {
      "cell_type": "markdown",
      "source": [
        "# Creating a subscriber for turtlesim movements"
      ],
      "metadata": {
        "id": "HUxk5SRZ8iSy"
      }
    },
    {
      "cell_type": "markdown",
      "source": [
        "## Package creation"
      ],
      "metadata": {
        "id": "2oqKTq_38zQd"
      }
    },
    {
      "cell_type": "code",
      "source": [
        "# Shell 4\n",
        "ros2 pkg create --build-type ament_python subscriber_pkg --dependencies rclpy std_msgs sensor_msgs"
      ],
      "metadata": {
        "id": "dcotrxEl_EF1"
      },
      "execution_count": null,
      "outputs": []
    },
    {
      "cell_type": "markdown",
      "source": [
        "## Created a .py file inside the inner most publisher package folder named as 'subscription.py'"
      ],
      "metadata": {
        "id": "lGZu58_q_GUm"
      }
    },
    {
      "cell_type": "code",
      "source": [
        "# Code\n",
        "\n",
        "import rclpy\n",
        "from rclpy.node import Node\n",
        "from geometry_msgs.msg import Twist\n",
        "\n",
        "class Subscribe(Node):\n",
        "    def __init__(self):\n",
        "        super().__init__('Subscriber')\n",
        "        self.subscriber= self.create_subscription(\n",
        "        Twist,\n",
        "        '/turtle1/cmd_vel',\n",
        "        self.listener_callback,\n",
        "        10\n",
        "        )\n",
        "        self.subscriber\n",
        "\n",
        "    def listener_callback(self, msg):\n",
        "        self.get_logger().info(f'Motion according to: {msg}')\n",
        "\n",
        "def main(args = None):\n",
        "    rclpy.init(args = args)\n",
        "    subs = Subscribe()\n",
        "    rclpy.spin(subs)\n",
        "    subs.destroy_node()\n",
        "    rclpy.shutdown()\n",
        "\n",
        "if __name__ == '__main__':\n",
        "    main()"
      ],
      "metadata": {
        "id": "1IR5O160_K1H"
      },
      "execution_count": null,
      "outputs": []
    },
    {
      "cell_type": "markdown",
      "source": [
        "## Launch file creation"
      ],
      "metadata": {
        "id": "CGtYXe-v_N0M"
      }
    },
    {
      "cell_type": "code",
      "source": [
        "# Shell 4\n",
        "\n",
        "cd ~/ros2_ws/src/subscriber_pkg\n",
        "mkdir launch\n",
        "cd ~/ros2_ws/src/subscriber_pkg/launch\n",
        "touch sub_launch_file.launch.py\n",
        "chmod +x sub_launch_file.launch.py"
      ],
      "metadata": {
        "id": "Gm6B9BaU_P_N"
      },
      "execution_count": null,
      "outputs": []
    },
    {
      "cell_type": "markdown",
      "source": [
        "## Launch file code"
      ],
      "metadata": {
        "id": "PNY9Yu9l_TAv"
      }
    },
    {
      "cell_type": "code",
      "source": [
        "from launch import LaunchDescription\n",
        "from launch_ros.actions import Node\n",
        "\n",
        "def generate_launch_description():\n",
        "    return LaunchDescription([\n",
        "    Node(\n",
        "    package = 'subscriber_pkg',\n",
        "    executable = 'simp_sub',\n",
        "    output = 'screen'\n",
        "    )\n",
        "    ])"
      ],
      "metadata": {
        "id": "MU5IZ2zJ_WL9"
      },
      "execution_count": null,
      "outputs": []
    },
    {
      "cell_type": "markdown",
      "source": [
        "## Modify the setup.py"
      ],
      "metadata": {
        "id": "nG42RvKi_bjo"
      }
    },
    {
      "cell_type": "code",
      "source": [
        "from setuptools import find_packages, setup\n",
        "import os\n",
        "from glob import glob\n",
        "\n",
        "package_name = 'subscriber_pkg'\n",
        "\n",
        "setup(\n",
        "    name=package_name,\n",
        "    version='0.0.0',\n",
        "    packages=find_packages(exclude=['test']),\n",
        "    data_files=[\n",
        "        ('share/ament_index/resource_index/packages',\n",
        "            ['resource/' + package_name]),\n",
        "        ('share/' + package_name, ['package.xml']),\n",
        "    (os.path.join('share', package_name), glob('launch/*launch.py'))\n",
        "    ],\n",
        "    install_requires=['setuptools'],\n",
        "    zip_safe=True,\n",
        "    maintainer='user',\n",
        "    maintainer_email='user@todo.todo',\n",
        "    description='TODO: Package description',\n",
        "    license='TODO: License declaration',\n",
        "    tests_require=['pytest'],\n",
        "    entry_points={\n",
        "        'console_scripts': [\n",
        "        'simp_sub = subscriber_pkg.subscription:main'\n",
        "        ],\n",
        "    },\n",
        ")"
      ],
      "metadata": {
        "id": "wb85kgNk_eh-"
      },
      "execution_count": null,
      "outputs": []
    },
    {
      "cell_type": "markdown",
      "source": [
        "\n",
        "## Package Compiling"
      ],
      "metadata": {
        "id": "ncOxDwGu_hJt"
      }
    },
    {
      "cell_type": "code",
      "source": [
        "# Shell 4\n",
        "\n",
        "cd ~/ros2_ws\n",
        "colcon build\n",
        "source install/setup.bash"
      ],
      "metadata": {
        "id": "6c4IbfKG_l2F"
      },
      "execution_count": null,
      "outputs": []
    },
    {
      "cell_type": "markdown",
      "source": [
        "## Launch File"
      ],
      "metadata": {
        "id": "mMNXNahE_n4F"
      }
    },
    {
      "cell_type": "code",
      "source": [
        "# Shell 6\n",
        "\n",
        "ros2 launch publisher_pkg sub_launch_file.launch.py"
      ],
      "metadata": {
        "id": "C_Kfwe4m82Dz"
      },
      "execution_count": null,
      "outputs": []
    }
  ]
}